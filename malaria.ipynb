{
 "cells": [
  {
   "cell_type": "code",
   "execution_count": 1,
   "metadata": {},
   "outputs": [],
   "source": [
    "from keras.models import Sequential\n",
    "from keras.layers import Convolution2D,MaxPooling2D,Flatten,Dense\n",
    "import warnings\n",
    "warnings.filterwarnings(\"ignore\")\n"
   ]
  },
  {
   "cell_type": "markdown",
   "metadata": {},
   "source": [
    "### Creating Model"
   ]
  },
  {
   "cell_type": "code",
   "execution_count": 2,
   "metadata": {},
   "outputs": [],
   "source": [
    "classifier =Sequential()"
   ]
  },
  {
   "cell_type": "markdown",
   "metadata": {},
   "source": [
    "### Step 1 :convolution \n",
    "* input layer/dimension \n",
    "* step-1 convolution \n",
    "* 64 number of output filters in convolution \n",
    "* 3,3 is filter matrix that will multiply to \n",
    "* 64,64 is image size \n",
    "* 3 rgp\n"
   ]
  },
  {
   "cell_type": "code",
   "execution_count": 7,
   "metadata": {},
   "outputs": [],
   "source": [
    "classifier.add(Convolution2D(64,3,3, input_shape=(64,3,3),activation='relu',padding='same'))"
   ]
  },
  {
   "cell_type": "markdown",
   "metadata": {},
   "source": [
    "#### step2: pooling \n",
    "* processing \n",
    "* hidden layer 1\n",
    "* 2,2 matrix rotate ,tilts ,etc to all the images "
   ]
  },
  {
   "cell_type": "code",
   "execution_count": 8,
   "metadata": {},
   "outputs": [],
   "source": [
    "classifier.add(MaxPooling2D(pool_size=(2,2),padding='same', data_format='channels_last',strides=(1, 1)))"
   ]
  },
  {
   "cell_type": "markdown",
   "metadata": {},
   "source": [
    "* adding a second Convolution Layer \n",
    "* Hidden Layer \n",
    "* Relu turns negative images to 0"
   ]
  },
  {
   "cell_type": "code",
   "execution_count": 11,
   "metadata": {},
   "outputs": [],
   "source": [
    "classifier.add(Convolution2D(64,3,3, activation='relu',padding='same'))\n",
    "classifier.add(MaxPooling2D(pool_size=(2,2),padding='same'))"
   ]
  },
  {
   "cell_type": "markdown",
   "metadata": {},
   "source": [
    "#### step3:Flatten \n",
    "* convert the matrix to single array "
   ]
  },
  {
   "cell_type": "code",
   "execution_count": 12,
   "metadata": {},
   "outputs": [],
   "source": [
    "classifier.add(Flatten())"
   ]
  },
  {
   "cell_type": "markdown",
   "metadata": {},
   "source": [
    "# step4:Full connection \n",
    "* 128 is the final layer of output & from that 1 will be considerd  Infected and Uninfected"
   ]
  },
  {
   "cell_type": "code",
   "execution_count": 14,
   "metadata": {},
   "outputs": [],
   "source": [
    "classifier.add(Dense(128,activation='relu'))\n",
    "classifier.add(Dense(1,activation=\"sigmoid\"))"
   ]
  },
  {
   "cell_type": "markdown",
   "metadata": {},
   "source": [
    "### Compiling "
   ]
  },
  {
   "cell_type": "code",
   "execution_count": 15,
   "metadata": {},
   "outputs": [],
   "source": [
    "classifier.compile(optimizer=\"adam\",loss=\"binary_crossentropy\",metrics=[\"accuracy\"])"
   ]
  },
  {
   "cell_type": "markdown",
   "metadata": {},
   "source": [
    "# Defining the training and testing "
   ]
  },
  {
   "cell_type": "code",
   "execution_count": 19,
   "metadata": {},
   "outputs": [],
   "source": [
    "from keras.preprocessing.image import ImageDataGenerator "
   ]
  },
  {
   "cell_type": "code",
   "execution_count": 20,
   "metadata": {},
   "outputs": [],
   "source": [
    "train_data=ImageDataGenerator(rescale=1./255,shear_range=0.2,zoom_range=0.2,horizontal_flip=True)"
   ]
  },
  {
   "cell_type": "code",
   "execution_count": 21,
   "metadata": {},
   "outputs": [],
   "source": [
    "test_data=ImageDataGenerator(rescale=1./255)"
   ]
  },
  {
   "cell_type": "code",
   "execution_count": 22,
   "metadata": {},
   "outputs": [
    {
     "name": "stdout",
     "output_type": "stream",
     "text": [
      "Found 27558 images belonging to 2 classes.\n"
     ]
    }
   ],
   "source": [
    "training_set=train_data.flow_from_directory(\"Malaria Cells/training_set\",target_size=(64,64),batch_size=32,class_mode=\"binary\")"
   ]
  },
  {
   "cell_type": "code",
   "execution_count": 23,
   "metadata": {},
   "outputs": [
    {
     "name": "stdout",
     "output_type": "stream",
     "text": [
      "Found 15832 images belonging to 2 classes.\n"
     ]
    }
   ],
   "source": [
    "test_set=test_data.flow_from_directory(\"Malaria Cells/testing_set\",target_size=(64,64),batch_size=32,class_mode=\"binary\")"
   ]
  },
  {
   "cell_type": "code",
   "execution_count": 32,
   "metadata": {},
   "outputs": [
    {
     "name": "stdout",
     "output_type": "stream",
     "text": [
      "Epoch 1/10\n",
      "862/862 [==============================] - ETA: 0s - loss: 0.1549 - accuracy: 0.9523WARNING:tensorflow:Your input ran out of data; interrupting training. Make sure that your dataset or generator can generate at least `steps_per_epoch * epochs` batches (in this case, 1000 batches). You may need to use the repeat() function when building your dataset.\n",
      "862/862 [==============================] - 821s 954ms/step - loss: 0.1549 - accuracy: 0.9523 - val_loss: 0.1572 - val_accuracy: 0.9459\n",
      "Epoch 2/10\n",
      "862/862 [==============================] - 912s 1s/step - loss: 0.1474 - accuracy: 0.9545\n",
      "Epoch 3/10\n",
      "862/862 [==============================] - 123s 143ms/step - loss: 0.1441 - accuracy: 0.9547\n",
      "Epoch 4/10\n",
      "862/862 [==============================] - 69s 80ms/step - loss: 0.1395 - accuracy: 0.9555\n",
      "Epoch 5/10\n",
      "862/862 [==============================] - 66s 77ms/step - loss: 0.1397 - accuracy: 0.9563\n",
      "Epoch 6/10\n",
      "862/862 [==============================] - 65s 76ms/step - loss: 0.1360 - accuracy: 0.9563\n",
      "Epoch 7/10\n",
      "862/862 [==============================] - 64s 74ms/step - loss: 0.1360 - accuracy: 0.9566\n",
      "Epoch 8/10\n",
      "862/862 [==============================] - 64s 74ms/step - loss: 0.1319 - accuracy: 0.9579\n",
      "Epoch 9/10\n",
      "862/862 [==============================] - 64s 75ms/step - loss: 0.1296 - accuracy: 0.9573\n",
      "Epoch 10/10\n",
      "862/862 [==============================] - 63s 74ms/step - loss: 0.1316 - accuracy: 0.9573\n"
     ]
    },
    {
     "data": {
      "text/plain": [
       "<keras.callbacks.History at 0x24508167ee0>"
      ]
     },
     "execution_count": 32,
     "metadata": {},
     "output_type": "execute_result"
    }
   ],
   "source": [
    "classifier.fit(training_set,epochs=10,validation_data=test_set,validation_steps=1000)"
   ]
  },
  {
   "cell_type": "code",
   "execution_count": 41,
   "metadata": {},
   "outputs": [
    {
     "name": "stdout",
     "output_type": "stream",
     "text": [
      "[[[[  0.   0.   0.]\n",
      "   [  0.   0.   0.]\n",
      "   [  0.   0.   0.]]\n",
      "\n",
      "  [[  0.   0.   0.]\n",
      "   [  0.   0.   0.]\n",
      "   [  0.   0.   0.]]\n",
      "\n",
      "  [[  0.   0.   0.]\n",
      "   [  0.   0.   0.]\n",
      "   [  0.   0.   0.]]\n",
      "\n",
      "  [[  0.   0.   0.]\n",
      "   [  0.   0.   0.]\n",
      "   [  0.   0.   0.]]\n",
      "\n",
      "  [[  0.   0.   0.]\n",
      "   [  0.   0.   0.]\n",
      "   [  0.   0.   0.]]\n",
      "\n",
      "  [[  0.   0.   0.]\n",
      "   [  0.   0.   0.]\n",
      "   [  0.   0.   0.]]\n",
      "\n",
      "  [[  0.   0.   0.]\n",
      "   [  0.   0.   0.]\n",
      "   [  0.   0.   0.]]\n",
      "\n",
      "  [[  0.   0.   0.]\n",
      "   [  0.   0.   0.]\n",
      "   [  0.   0.   0.]]\n",
      "\n",
      "  [[  0.   0.   0.]\n",
      "   [  0.   0.   0.]\n",
      "   [  0.   0.   0.]]\n",
      "\n",
      "  [[  0.   0.   0.]\n",
      "   [  0.   0.   0.]\n",
      "   [  0.   0.   0.]]\n",
      "\n",
      "  [[  0.   0.   0.]\n",
      "   [  0.   0.   0.]\n",
      "   [  0.   0.   0.]]\n",
      "\n",
      "  [[  0.   0.   0.]\n",
      "   [207. 116. 133.]\n",
      "   [  0.   0.   0.]]\n",
      "\n",
      "  [[  0.   0.   0.]\n",
      "   [205. 114. 131.]\n",
      "   [  0.   0.   0.]]\n",
      "\n",
      "  [[  0.   0.   0.]\n",
      "   [205. 114. 131.]\n",
      "   [  0.   0.   0.]]\n",
      "\n",
      "  [[225. 167. 155.]\n",
      "   [205. 114. 131.]\n",
      "   [  0.   0.   0.]]\n",
      "\n",
      "  [[223. 163. 153.]\n",
      "   [206. 115. 132.]\n",
      "   [  0.   0.   0.]]\n",
      "\n",
      "  [[221. 156. 152.]\n",
      "   [205. 114. 131.]\n",
      "   [  0.   0.   0.]]\n",
      "\n",
      "  [[216. 146. 146.]\n",
      "   [207. 116. 133.]\n",
      "   [  0.   0.   0.]]\n",
      "\n",
      "  [[216. 141. 145.]\n",
      "   [206. 118. 132.]\n",
      "   [  0.   0.   0.]]\n",
      "\n",
      "  [[217. 142. 147.]\n",
      "   [204. 116. 130.]\n",
      "   [  0.   0.   0.]]\n",
      "\n",
      "  [[218. 145. 152.]\n",
      "   [204. 116. 130.]\n",
      "   [  0.   0.   0.]]\n",
      "\n",
      "  [[223. 147. 157.]\n",
      "   [206. 118. 132.]\n",
      "   [  0.   0.   0.]]\n",
      "\n",
      "  [[225. 145. 158.]\n",
      "   [207. 119. 133.]\n",
      "   [  0.   0.   0.]]\n",
      "\n",
      "  [[216. 122. 149.]\n",
      "   [206. 118. 132.]\n",
      "   [  0.   0.   0.]]\n",
      "\n",
      "  [[202. 103. 134.]\n",
      "   [206. 118. 132.]\n",
      "   [201. 113. 127.]]\n",
      "\n",
      "  [[190.  88. 125.]\n",
      "   [205. 117. 131.]\n",
      "   [203. 115. 129.]]\n",
      "\n",
      "  [[190.  90. 126.]\n",
      "   [205. 117. 131.]\n",
      "   [204. 116. 130.]]\n",
      "\n",
      "  [[208. 115. 144.]\n",
      "   [203. 117. 130.]\n",
      "   [208. 120. 134.]]\n",
      "\n",
      "  [[217. 129. 153.]\n",
      "   [207. 121. 134.]\n",
      "   [207. 121. 134.]]\n",
      "\n",
      "  [[219. 136. 156.]\n",
      "   [207. 121. 132.]\n",
      "   [210. 124. 137.]]\n",
      "\n",
      "  [[219. 138. 155.]\n",
      "   [211. 125. 136.]\n",
      "   [210. 124. 137.]]\n",
      "\n",
      "  [[221. 140. 155.]\n",
      "   [212. 129. 139.]\n",
      "   [210. 124. 137.]]\n",
      "\n",
      "  [[219. 141. 154.]\n",
      "   [210. 129. 138.]\n",
      "   [210. 124. 137.]]\n",
      "\n",
      "  [[221. 144. 154.]\n",
      "   [210. 129. 138.]\n",
      "   [208. 122. 135.]]\n",
      "\n",
      "  [[223. 148. 155.]\n",
      "   [213. 132. 139.]\n",
      "   [208. 122. 135.]]\n",
      "\n",
      "  [[219. 147. 151.]\n",
      "   [214. 135. 141.]\n",
      "   [208. 122. 135.]]\n",
      "\n",
      "  [[218. 147. 151.]\n",
      "   [215. 136. 141.]\n",
      "   [207. 121. 134.]]\n",
      "\n",
      "  [[221. 153. 154.]\n",
      "   [216. 137. 142.]\n",
      "   [208. 122. 135.]]\n",
      "\n",
      "  [[219. 154. 152.]\n",
      "   [214. 135. 140.]\n",
      "   [208. 122. 135.]]\n",
      "\n",
      "  [[221. 156. 154.]\n",
      "   [215. 136. 141.]\n",
      "   [206. 120. 133.]]\n",
      "\n",
      "  [[223. 158. 156.]\n",
      "   [214. 133. 140.]\n",
      "   [207. 121. 134.]]\n",
      "\n",
      "  [[223. 155. 154.]\n",
      "   [212. 129. 139.]\n",
      "   [209. 123. 136.]]\n",
      "\n",
      "  [[222. 140. 162.]\n",
      "   [211. 128. 138.]\n",
      "   [211. 127. 140.]]\n",
      "\n",
      "  [[203.  98. 154.]\n",
      "   [209. 126. 136.]\n",
      "   [212. 129. 139.]]\n",
      "\n",
      "  [[178.  53. 144.]\n",
      "   [208. 125. 135.]\n",
      "   [211. 130. 139.]]\n",
      "\n",
      "  [[165.  28. 134.]\n",
      "   [208. 125. 135.]\n",
      "   [213. 129. 142.]]\n",
      "\n",
      "  [[163.  20. 134.]\n",
      "   [209. 126. 136.]\n",
      "   [210. 129. 138.]]\n",
      "\n",
      "  [[164.  27. 133.]\n",
      "   [206. 123. 133.]\n",
      "   [207. 127. 136.]]\n",
      "\n",
      "  [[155.  38. 119.]\n",
      "   [206. 123. 133.]\n",
      "   [209. 132. 138.]]\n",
      "\n",
      "  [[181.  93. 135.]\n",
      "   [206. 122. 135.]\n",
      "   [211. 139. 142.]]\n",
      "\n",
      "  [[220. 159. 154.]\n",
      "   [206. 120. 133.]\n",
      "   [220. 155. 151.]]\n",
      "\n",
      "  [[233. 178. 158.]\n",
      "   [205. 119. 132.]\n",
      "   [223. 160. 151.]]\n",
      "\n",
      "  [[224. 173. 152.]\n",
      "   [204. 121. 131.]\n",
      "   [226. 168. 154.]]\n",
      "\n",
      "  [[  0.   0.   0.]\n",
      "   [205. 124. 133.]\n",
      "   [226. 173. 157.]]\n",
      "\n",
      "  [[  0.   0.   0.]\n",
      "   [207. 127. 136.]\n",
      "   [225. 174. 155.]]\n",
      "\n",
      "  [[  0.   0.   0.]\n",
      "   [212. 131. 140.]\n",
      "   [225. 174. 153.]]\n",
      "\n",
      "  [[  0.   0.   0.]\n",
      "   [212. 131. 140.]\n",
      "   [  0.   0.   0.]]\n",
      "\n",
      "  [[  0.   0.   0.]\n",
      "   [212. 129. 139.]\n",
      "   [  0.   0.   0.]]\n",
      "\n",
      "  [[  0.   0.   0.]\n",
      "   [209. 128. 137.]\n",
      "   [  0.   0.   0.]]\n",
      "\n",
      "  [[  0.   0.   0.]\n",
      "   [205. 130. 134.]\n",
      "   [  0.   0.   0.]]\n",
      "\n",
      "  [[  0.   0.   0.]\n",
      "   [220. 153. 147.]\n",
      "   [  0.   0.   0.]]\n",
      "\n",
      "  [[  0.   0.   0.]\n",
      "   [222. 164. 152.]\n",
      "   [  0.   0.   0.]]\n",
      "\n",
      "  [[  0.   0.   0.]\n",
      "   [220. 167. 149.]\n",
      "   [  0.   0.   0.]]\n",
      "\n",
      "  [[  0.   0.   0.]\n",
      "   [223. 170. 152.]\n",
      "   [  0.   0.   0.]]]]\n",
      "{'Parasitized': 0, 'Uninfected': 1}\n"
     ]
    }
   ],
   "source": [
    "import numpy as np \n",
    "from keras_preprocessing import image\n",
    "testing=image.load_img(\"Malaria Cells\\single_prediction\\Parasitised.png\",target_size=(64,3))\n",
    "testing=image.img_to_array(testing)\n",
    "testing=np.expand_dims(testing,axis=0)\n",
    "print(testing)\n",
    "print(training_set.class_indices)\n"
   ]
  },
  {
   "cell_type": "code",
   "execution_count": 43,
   "metadata": {},
   "outputs": [],
   "source": [
    "result=classifier.predict(testing)"
   ]
  },
  {
   "cell_type": "code",
   "execution_count": 44,
   "metadata": {},
   "outputs": [
    {
     "name": "stdout",
     "output_type": "stream",
     "text": [
      "the prediction is : parasitise\n"
     ]
    }
   ],
   "source": [
    "if result[0][0]==1:\n",
    "    pred=\"unifected\"\n",
    "else:\n",
    "    pred=\"parasitise\"\n",
    "print(\"the prediction is :\",pred)        "
   ]
  },
  {
   "cell_type": "code",
   "execution_count": null,
   "metadata": {},
   "outputs": [],
   "source": []
  }
 ],
 "metadata": {
  "interpreter": {
   "hash": "707aab0a078b6b4ae7605615109a6f7159987081daedafbf3334295fb1ab1b6c"
  },
  "kernelspec": {
   "display_name": "Python 3.10.2 64-bit",
   "language": "python",
   "name": "python3"
  },
  "language_info": {
   "codemirror_mode": {
    "name": "ipython",
    "version": 3
   },
   "file_extension": ".py",
   "mimetype": "text/x-python",
   "name": "python",
   "nbconvert_exporter": "python",
   "pygments_lexer": "ipython3",
   "version": "3.10.2"
  },
  "orig_nbformat": 4
 },
 "nbformat": 4,
 "nbformat_minor": 2
}
